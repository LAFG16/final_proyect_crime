{
 "cells": [
  {
   "cell_type": "markdown",
   "metadata": {},
   "source": [
    "<center>\n",
    "\n",
    "# DATA COLLECTION\n",
    "\n",
    "</center>"
   ]
  },
  {
   "cell_type": "markdown",
   "metadata": {},
   "source": [
    "## Import libraries"
   ]
  },
  {
   "cell_type": "code",
   "execution_count": 1,
   "metadata": {},
   "outputs": [],
   "source": [
    "import pandas as pd\n",
    "import requests\n",
    "import PyPDF2\n",
    "import csv"
   ]
  },
  {
   "cell_type": "markdown",
   "metadata": {},
   "source": [
    "## Import dataset"
   ]
  },
  {
   "cell_type": "code",
   "execution_count": null,
   "metadata": {},
   "outputs": [],
   "source": [
    "url = \"https://data.lacity.org/resource/2nrs-mtv8.csv?$select=*&$limit=764061&$offset=0\"\n",
    "\n",
    "# Descargar el csv\n",
    "response = requests.get(url)\n",
    "\n",
    "# Verificar si la solicitud fue exitosa (código de estado 2xx)\n",
    "if str(response.status_code).startswith('2'):\n",
    "    # Guardar el contenido en un archivo CSV\n",
    "    with open(\"../data/raw/crime_data.csv\", \"wb\") as f:\n",
    "        f.write(response.content)\n",
    "else:\n",
    "    print(f\"Error al realizar la solicitud: {response.status_code}\")"
   ]
  },
  {
   "cell_type": "code",
   "execution_count": 15,
   "metadata": {},
   "outputs": [],
   "source": [
    "url_pdf = \"https://data.lacity.org/api/views/2nrs-mtv8/files/4591b6bf-5846-4de0-9fb0-8780a77a036c?download=true&filename=MO_CODES_Numerical_20191119.pdf\"\n",
    "\n",
    "# Download the PDF file\n",
    "response = requests.get(url_pdf)\n",
    "\n",
    "# Check if the request was successful (2xx status code)\n",
    "if str(response.status_code).startswith('2'):\n",
    "    # Save the content to a local file\n",
    "    with open(\"../data/raw/mo_codes_data.pdf\", \"wb\") as pdf_file:\n",
    "        pdf_file.write(response.content)\n",
    "\n",
    "    # Open the file locally and extract the text\n",
    "    with open(\"../data/raw/mo_codes_data.pdf\", \"rb\") as local_pdf:\n",
    "        pdf_reader = PyPDF2.PdfReader(local_pdf)\n",
    "        text = \"\"\n",
    "        for page_num in range(len(pdf_reader.pages)):\n",
    "            text += pdf_reader.pages[page_num].extract_text()\n",
    "            \n",
    "    # Remove the word \"MO CODES\"\n",
    "    text = text.replace(\"MO CODES\", \"\")\n",
    "\n",
    "    # Save the text as a CSV file\n",
    "    with open(\"../data/raw/mo_codes_data.csv\", \"w\", encoding=\"utf-8\", newline='') as csv_file:\n",
    "        csv_writer = csv.writer(csv_file)\n",
    "        # Split the text into lines and write each line as a row in the CSV\n",
    "        for line in text.split('\\n'):\n",
    "            csv_writer.writerow([line.strip()])\n",
    "\n",
    "else:\n",
    "    print(f\"Error al realizar la solicitud: {response.status_code}\")"
   ]
  }
 ],
 "metadata": {
  "kernelspec": {
   "display_name": "Python 3",
   "language": "python",
   "name": "python3"
  },
  "language_info": {
   "codemirror_mode": {
    "name": "ipython",
    "version": 3
   },
   "file_extension": ".py",
   "mimetype": "text/x-python",
   "name": "python",
   "nbconvert_exporter": "python",
   "pygments_lexer": "ipython3",
   "version": "3.11.5"
  }
 },
 "nbformat": 4,
 "nbformat_minor": 2
}
