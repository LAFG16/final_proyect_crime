{
 "cells": [
  {
   "cell_type": "markdown",
   "metadata": {},
   "source": [
    "<center>\n",
    "\n",
    "# DATA COLLECTION\n",
    "\n",
    "</center>"
   ]
  },
  {
   "cell_type": "markdown",
   "metadata": {},
   "source": [
    "## Import libraries"
   ]
  },
  {
   "cell_type": "code",
   "execution_count": 17,
   "metadata": {},
   "outputs": [],
   "source": [
    "import pandas as pd\n",
    "import requests\n",
    "import PyPDF2\n",
    "import csv"
   ]
  },
  {
   "cell_type": "markdown",
   "metadata": {},
   "source": [
    "## Import dataset"
   ]
  },
  {
   "cell_type": "code",
   "execution_count": null,
   "metadata": {},
   "outputs": [],
   "source": [
    "url = \"https://data.lacity.org/resource/2nrs-mtv8.csv?$select=*&$limit=764061&$offset=0\"\n",
    "\n",
    "response = requests.get(url)\n",
    "# Verificar si la solicitud fue exitosa (código de estado 200)\n",
    "if str(response.status_code).startswith('2'):\n",
    "    # Guardar el contenido en un archivo CSV\n",
    "    with open(\"../data/raw/crime_data.csv\", \"wb\") as f:\n",
    "        f.write(response.content)\n",
    "else:\n",
    "    print(f\"Error al realizar la solicitud: {response.status_code}\")"
   ]
  },
  {
   "cell_type": "code",
   "execution_count": 59,
   "metadata": {},
   "outputs": [],
   "source": [
    "url_pdf = \"https://data.lacity.org/api/views/2nrs-mtv8/files/4591b6bf-5846-4de0-9fb0-8780a77a036c?download=true&filename=MO_CODES_Numerical_20191119.pdf\"\n",
    "\n",
    "# Descargar el archivo PDF\n",
    "response = requests.get(url_pdf)\n",
    "\n",
    "# Verificar si la solicitud fue exitosa (código de estado 200)\n",
    "if str(response.status_code).startswith('2'):\n",
    "    # Guardar el contenido en un archivo local\n",
    "    with open(\"../data/raw/mo_codes_data.pdf\", \"wb\") as pdf_file:\n",
    "        pdf_file.write(response.content)\n",
    "\n",
    "    # Abrir el archivo localmente y extraer el texto\n",
    "    with open(\"../data/raw/mo_codes_data.pdf\", \"rb\") as local_pdf:\n",
    "        pdf_reader = PyPDF2.PdfReader(local_pdf)\n",
    "        text = \"\"\n",
    "        for page_num in range(len(pdf_reader.pages)):\n",
    "            text += pdf_reader.pages[page_num].extract_text()\n",
    "    # Eliminar la palabra \"MO CODES\"\n",
    "    text = text.replace(\"MO CODES\", \"\")\n",
    "    # Guardar el texto como un archivo CSV\n",
    "    with open(\"../data/raw/mo_codes_data.csv\", \"w\", encoding=\"utf-8\", newline='') as csv_file:\n",
    "        csv_writer = csv.writer(csv_file)\n",
    "        # Dividir el texto en líneas y escribir cada línea como una fila en el CSV\n",
    "        for line in text.split('\\n'):\n",
    "            csv_writer.writerow([line.strip()])\n",
    "\n",
    "else:\n",
    "    print(f\"Error al realizar la solicitud: {response.status_code}\")"
   ]
  },
  {
   "cell_type": "code",
   "execution_count": 60,
   "metadata": {},
   "outputs": [],
   "source": [
    "pdf = pd.read_csv(\"../data/raw/mo_codes_data.csv\", header=None, names=[\"Columna Original\"])"
   ]
  },
  {
   "cell_type": "code",
   "execution_count": 61,
   "metadata": {},
   "outputs": [],
   "source": [
    "pdf[\"mo_code\"] = pdf[\"Columna Original\"].str[:4]\n",
    "pdf[\"mo_code_desc\"] = pdf[\"Columna Original\"].str[4:]\n",
    "\n",
    "pdf.drop(\"Columna Original\", axis=1, inplace= True)\n"
   ]
  },
  {
   "cell_type": "code",
   "execution_count": 62,
   "metadata": {},
   "outputs": [
    {
     "data": {
      "text/html": [
       "<div>\n",
       "<style scoped>\n",
       "    .dataframe tbody tr th:only-of-type {\n",
       "        vertical-align: middle;\n",
       "    }\n",
       "\n",
       "    .dataframe tbody tr th {\n",
       "        vertical-align: top;\n",
       "    }\n",
       "\n",
       "    .dataframe thead th {\n",
       "        text-align: right;\n",
       "    }\n",
       "</style>\n",
       "<table border=\"1\" class=\"dataframe\">\n",
       "  <thead>\n",
       "    <tr style=\"text-align: right;\">\n",
       "      <th></th>\n",
       "      <th>mo_code</th>\n",
       "      <th>mo_code_desc</th>\n",
       "    </tr>\n",
       "  </thead>\n",
       "  <tbody>\n",
       "    <tr>\n",
       "      <th>0</th>\n",
       "      <td>REV:</td>\n",
       "      <td>07/19</td>\n",
       "    </tr>\n",
       "    <tr>\n",
       "      <th>1</th>\n",
       "      <td>0100</td>\n",
       "      <td>Suspect Impersonate</td>\n",
       "    </tr>\n",
       "    <tr>\n",
       "      <th>2</th>\n",
       "      <td>0101</td>\n",
       "      <td>Aid victim</td>\n",
       "    </tr>\n",
       "    <tr>\n",
       "      <th>3</th>\n",
       "      <td>0102</td>\n",
       "      <td>Blind</td>\n",
       "    </tr>\n",
       "    <tr>\n",
       "      <th>4</th>\n",
       "      <td>0103</td>\n",
       "      <td>Physically disabled</td>\n",
       "    </tr>\n",
       "  </tbody>\n",
       "</table>\n",
       "</div>"
      ],
      "text/plain": [
       "  mo_code          mo_code_desc\n",
       "0    REV:                 07/19\n",
       "1    0100   Suspect Impersonate\n",
       "2    0101            Aid victim\n",
       "3    0102                 Blind\n",
       "4    0103   Physically disabled"
      ]
     },
     "execution_count": 62,
     "metadata": {},
     "output_type": "execute_result"
    }
   ],
   "source": [
    "pdf.head()"
   ]
  }
 ],
 "metadata": {
  "kernelspec": {
   "display_name": "Python 3",
   "language": "python",
   "name": "python3"
  },
  "language_info": {
   "codemirror_mode": {
    "name": "ipython",
    "version": 3
   },
   "file_extension": ".py",
   "mimetype": "text/x-python",
   "name": "python",
   "nbconvert_exporter": "python",
   "pygments_lexer": "ipython3",
   "version": "3.11.5"
  }
 },
 "nbformat": 4,
 "nbformat_minor": 2
}
