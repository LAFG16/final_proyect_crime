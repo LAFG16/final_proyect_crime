{
 "cells": [
  {
   "cell_type": "markdown",
   "metadata": {},
   "source": [
    "<center>\n",
    "\n",
    "# SQL DATABASE\n",
    "\n",
    "</center>"
   ]
  },
  {
   "cell_type": "markdown",
   "metadata": {},
   "source": [
    "## Import libraries"
   ]
  },
  {
   "cell_type": "code",
   "execution_count": 35,
   "metadata": {},
   "outputs": [],
   "source": [
    "import pandas as pd\n",
    "import sqlite3"
   ]
  },
  {
   "cell_type": "markdown",
   "metadata": {},
   "source": [
    "## Create database"
   ]
  },
  {
   "cell_type": "code",
   "execution_count": 36,
   "metadata": {},
   "outputs": [],
   "source": [
    "# Crear tabla y conección\n",
    "conn = sqlite3.connect(\"../data/raw/crime.db\")"
   ]
  },
  {
   "cell_type": "code",
   "execution_count": 37,
   "metadata": {},
   "outputs": [],
   "source": [
    "# Cargar datos\n",
    "total_data = pd.read_csv(\"../data/raw/crime_data.csv\")"
   ]
  },
  {
   "cell_type": "code",
   "execution_count": 38,
   "metadata": {},
   "outputs": [
    {
     "data": {
      "text/plain": [
       "764061"
      ]
     },
     "execution_count": 38,
     "metadata": {},
     "output_type": "execute_result"
    }
   ],
   "source": [
    "# Cargar dataframe en la base de datos SQL\n",
    "total_data.to_sql(name=\"Crime\", con=conn, index=False, if_exists=\"replace\")"
   ]
  },
  {
   "cell_type": "code",
   "execution_count": 39,
   "metadata": {},
   "outputs": [],
   "source": [
    "# Convertir consulta de SQL en Dataframe\n",
    "query = \"\"\"SELECT date_occ, \n",
    "                time_occ, \n",
    "                area_name, \n",
    "                rpt_dist_no, \n",
    "                crm_cd_desc, \n",
    "                mocodes, \n",
    "                vict_age, \n",
    "                vict_sex, \n",
    "                vict_descent, \n",
    "                premis_desc,\n",
    "                weapon_desc, \n",
    "                status_desc, \n",
    "                location, \n",
    "                lat, \n",
    "                lon \n",
    "            from Crime\n",
    "            WHERE strftime('%Y', date_occ) >= '2020'\"\"\"\n",
    "\n",
    "result = pd.read_sql_query(query, conn)"
   ]
  },
  {
   "cell_type": "code",
   "execution_count": 40,
   "metadata": {},
   "outputs": [
    {
     "data": {
      "text/html": [
       "<div>\n",
       "<style scoped>\n",
       "    .dataframe tbody tr th:only-of-type {\n",
       "        vertical-align: middle;\n",
       "    }\n",
       "\n",
       "    .dataframe tbody tr th {\n",
       "        vertical-align: top;\n",
       "    }\n",
       "\n",
       "    .dataframe thead th {\n",
       "        text-align: right;\n",
       "    }\n",
       "</style>\n",
       "<table border=\"1\" class=\"dataframe\">\n",
       "  <thead>\n",
       "    <tr style=\"text-align: right;\">\n",
       "      <th></th>\n",
       "      <th>date_occ</th>\n",
       "      <th>time_occ</th>\n",
       "      <th>area_name</th>\n",
       "      <th>rpt_dist_no</th>\n",
       "      <th>crm_cd_desc</th>\n",
       "      <th>mocodes</th>\n",
       "      <th>vict_age</th>\n",
       "      <th>vict_sex</th>\n",
       "      <th>vict_descent</th>\n",
       "      <th>premis_desc</th>\n",
       "      <th>weapon_desc</th>\n",
       "      <th>status_desc</th>\n",
       "      <th>location</th>\n",
       "      <th>lat</th>\n",
       "      <th>lon</th>\n",
       "    </tr>\n",
       "  </thead>\n",
       "  <tbody>\n",
       "    <tr>\n",
       "      <th>0</th>\n",
       "      <td>2020-01-08T00:00:00.000</td>\n",
       "      <td>2230</td>\n",
       "      <td>Southwest</td>\n",
       "      <td>377</td>\n",
       "      <td>BATTERY - SIMPLE ASSAULT</td>\n",
       "      <td>0444 0913</td>\n",
       "      <td>36</td>\n",
       "      <td>F</td>\n",
       "      <td>B</td>\n",
       "      <td>SINGLE FAMILY DWELLING</td>\n",
       "      <td>STRONG-ARM (HANDS, FIST, FEET OR BODILY FORCE)</td>\n",
       "      <td>Adult Other</td>\n",
       "      <td>1100 W  39TH                         PL</td>\n",
       "      <td>34.0141</td>\n",
       "      <td>-118.2978</td>\n",
       "    </tr>\n",
       "    <tr>\n",
       "      <th>1</th>\n",
       "      <td>2020-01-01T00:00:00.000</td>\n",
       "      <td>330</td>\n",
       "      <td>Central</td>\n",
       "      <td>163</td>\n",
       "      <td>BATTERY - SIMPLE ASSAULT</td>\n",
       "      <td>0416 1822 1414</td>\n",
       "      <td>25</td>\n",
       "      <td>M</td>\n",
       "      <td>H</td>\n",
       "      <td>SIDEWALK</td>\n",
       "      <td>UNKNOWN WEAPON/OTHER WEAPON</td>\n",
       "      <td>Invest Cont</td>\n",
       "      <td>700 S  HILL                         ST</td>\n",
       "      <td>34.0459</td>\n",
       "      <td>-118.2545</td>\n",
       "    </tr>\n",
       "  </tbody>\n",
       "</table>\n",
       "</div>"
      ],
      "text/plain": [
       "                  date_occ  time_occ  area_name  rpt_dist_no  \\\n",
       "0  2020-01-08T00:00:00.000      2230  Southwest          377   \n",
       "1  2020-01-01T00:00:00.000       330    Central          163   \n",
       "\n",
       "                crm_cd_desc         mocodes  vict_age vict_sex vict_descent  \\\n",
       "0  BATTERY - SIMPLE ASSAULT       0444 0913        36        F            B   \n",
       "1  BATTERY - SIMPLE ASSAULT  0416 1822 1414        25        M            H   \n",
       "\n",
       "              premis_desc                                     weapon_desc  \\\n",
       "0  SINGLE FAMILY DWELLING  STRONG-ARM (HANDS, FIST, FEET OR BODILY FORCE)   \n",
       "1                SIDEWALK                     UNKNOWN WEAPON/OTHER WEAPON   \n",
       "\n",
       "   status_desc                                 location      lat       lon  \n",
       "0  Adult Other  1100 W  39TH                         PL  34.0141 -118.2978  \n",
       "1  Invest Cont   700 S  HILL                         ST  34.0459 -118.2545  "
      ]
     },
     "execution_count": 40,
     "metadata": {},
     "output_type": "execute_result"
    }
   ],
   "source": [
    "result.head(2)"
   ]
  },
  {
   "cell_type": "code",
   "execution_count": 41,
   "metadata": {},
   "outputs": [],
   "source": [
    "# Guardar consulta en CSV\n",
    "result.to_csv(\"../data/raw/crime_query.csv\", index= False)"
   ]
  },
  {
   "cell_type": "code",
   "execution_count": null,
   "metadata": {},
   "outputs": [],
   "source": [
    "# Subir commit\n",
    "conn.commit()\n",
    "# Cerrar base de datos\n",
    "conn.close()"
   ]
  }
 ],
 "metadata": {
  "kernelspec": {
   "display_name": "Python 3",
   "language": "python",
   "name": "python3"
  },
  "language_info": {
   "codemirror_mode": {
    "name": "ipython",
    "version": 3
   },
   "file_extension": ".py",
   "mimetype": "text/x-python",
   "name": "python",
   "nbconvert_exporter": "python",
   "pygments_lexer": "ipython3",
   "version": "3.11.5"
  }
 },
 "nbformat": 4,
 "nbformat_minor": 2
}
